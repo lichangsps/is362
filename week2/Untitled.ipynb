{
 "cells": [
  {
   "cell_type": "markdown",
   "id": "hearing-blast",
   "metadata": {},
   "source": [
    "zip() is a Python build-in function to create a tuple for aggregating(Joining) elements from all of the iterables."
   ]
  },
  {
   "cell_type": "code",
   "execution_count": 1,
   "id": "sudden-anaheim",
   "metadata": {},
   "outputs": [
    {
     "name": "stdout",
     "output_type": "stream",
     "text": [
      "<zip object at 0x7f01e37449c8>\n"
     ]
    }
   ],
   "source": [
    "a = [1,2,3]\n",
    "b = [4,5,6]\n",
    "ab = zip(a,b)\n",
    "\n",
    "print (ab)"
   ]
  },
  {
   "cell_type": "markdown",
   "id": "known-judges",
   "metadata": {},
   "source": [
    "#zip object type cannot display directly, in order to display, we need to convert it into either tuple or list.\n"
   ]
  },
  {
   "cell_type": "code",
   "execution_count": 2,
   "id": "dental-repair",
   "metadata": {},
   "outputs": [
    {
     "name": "stdout",
     "output_type": "stream",
     "text": [
      "((1, 4), (2, 5), (3, 6))\n"
     ]
    }
   ],
   "source": [
    "print (tuple(ab))"
   ]
  },
  {
   "cell_type": "markdown",
   "id": "worst-departure",
   "metadata": {},
   "source": [
    "If one of literables has more element, these will be ignored. "
   ]
  },
  {
   "cell_type": "code",
   "execution_count": 3,
   "id": "efficient-windows",
   "metadata": {},
   "outputs": [
    {
     "name": "stdout",
     "output_type": "stream",
     "text": [
      "[('John', 'M'), ('Amy', 'F'), ('Lucy', 'F'), ('Brian', 'M')]\n"
     ]
    }
   ],
   "source": [
    "name = (\"John\",\"Amy\",\"Lucy\",\"Brian\",\"Lily\")\n",
    "gender = (\"M\",\"F\",\"F\",\"M\")\n",
    "result = zip(name,gender)\n",
    "\n",
    "print(list(result))"
   ]
  },
  {
   "cell_type": "markdown",
   "id": "about-order",
   "metadata": {},
   "source": [
    "#notice Lily get ignored.\n"
   ]
  },
  {
   "cell_type": "markdown",
   "id": "discrete-diamond",
   "metadata": {},
   "source": [
    "Using zip(*) can unzip the zip object."
   ]
  },
  {
   "cell_type": "code",
   "execution_count": 4,
   "id": "alpha-finish",
   "metadata": {},
   "outputs": [
    {
     "name": "stdout",
     "output_type": "stream",
     "text": [
      "('apple', 'banana', 'organge', 'grape')\n",
      "(5, 4, 3, 2)\n"
     ]
    }
   ],
   "source": [
    "fruit = [\"apple\",\"banana\",\"organge\",\"grape\"]\n",
    "qty = [5,4,3,2]\n",
    "fruitqty = zip(fruit,qty)\n",
    "unzip_fruit, unzip_qty = zip(*fruitqty)\n",
    "\n",
    "print(unzip_fruit)\n",
    "print(unzip_qty)"
   ]
  },
  {
   "cell_type": "markdown",
   "id": "clear-invitation",
   "metadata": {},
   "source": [
    "#unzip return as tuple type, it can display directly \n"
   ]
  },
  {
   "cell_type": "markdown",
   "id": "deluxe-deposit",
   "metadata": {},
   "source": [
    "Example: pairing the lowercase letter and upper case letter"
   ]
  },
  {
   "cell_type": "code",
   "execution_count": 5,
   "id": "impaired-pantyhose",
   "metadata": {},
   "outputs": [
    {
     "name": "stdout",
     "output_type": "stream",
     "text": [
      "['a', 'b', 'c', 'd', 'e', 'f', 'g', 'h', 'i', 'j', 'k', 'l', 'm', 'n', 'o', 'p', 'q', 'r', 's', 't', 'u', 'v', 'w', 'x', 'y', 'z']\n",
      "['A', 'B', 'C', 'D', 'E', 'F', 'G', 'H', 'I', 'J', 'K', 'L', 'M', 'N', 'O', 'P', 'Q', 'R', 'S', 'T', 'U', 'V', 'W', 'X', 'Y', 'Z']\n",
      "a A\n",
      "b B\n",
      "c C\n",
      "d D\n",
      "e E\n",
      "f F\n",
      "g G\n",
      "h H\n",
      "i I\n",
      "j J\n",
      "k K\n",
      "l L\n",
      "m M\n",
      "n N\n",
      "o O\n",
      "p P\n",
      "q Q\n",
      "r R\n",
      "s S\n",
      "t T\n",
      "u U\n",
      "v V\n",
      "w W\n",
      "x X\n",
      "y Y\n",
      "z Z\n"
     ]
    }
   ],
   "source": [
    "lowercase = [chr(i) for i in range (97,123)]\n",
    "print(lowercase)\n",
    "uppercase = [chr(i) for i in range (65,91)]\n",
    "print (uppercase)\n",
    "for (lc,uc) in zip(lowercase,uppercase):\n",
    "    print(lc,uc)"
   ]
  }
 ],
 "metadata": {
  "kernelspec": {
   "display_name": "Python 3",
   "language": "python",
   "name": "python3"
  },
  "language_info": {
   "codemirror_mode": {
    "name": "ipython",
    "version": 3
   },
   "file_extension": ".py",
   "mimetype": "text/x-python",
   "name": "python",
   "nbconvert_exporter": "python",
   "pygments_lexer": "ipython3",
   "version": "3.6.13"
  }
 },
 "nbformat": 4,
 "nbformat_minor": 5
}
