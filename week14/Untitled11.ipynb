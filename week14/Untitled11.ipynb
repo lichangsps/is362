{
 "cells": [
  {
   "cell_type": "markdown",
   "metadata": {},
   "source": [
    "# IS 362 - Week 14 Assignment\n",
    "\n",
    "Taobao belong to Alibaba group, this is one of the largest e-commerce websites in the world, focusing on C2C model in Chinese market. On November 11 2021, China's singles' day sale event (equivalent to Black Friday), there was total 505.8 million people shopping on Taobao, with total volume of 84.5 billion U.S. dollars.\n",
    "With over 2.4 million items sold on Taobao, they must be very careful to design their recommendation systems. \n",
    "\n",
    "\n",
    "## Who are the target users?\n",
    "Alibaba is a giant internet company in China, and they cover many different areas, I would say Chinese people cannot live without Alibaba. \n",
    "Taobao as their feature product, get widely recognized. The users range from 1950s to 2000s. Different generation has different personas. \n",
    "<img src=\"https://miro.medium.com/max/1400/1*Kr0oFbSOgm-w0B49k38tqA.jpeg\">\n",
    "The main target users for Taobao are 70s and 80s. \n",
    "\n",
    "\n",
    "## What are their goals?\n",
    "The generation of 70s and 80s have a large family need to take care. In a typical family for that generation, a couple needs to take care of 4 elderlies (due to single child policy), at least one child, and maybe a grandchild. They have to responsible all different cost, including high housing cost as well. Their goal is to find a platform with diversity product for affordable prices. \n",
    "\n",
    "\n",
    "## How can they accomplish their goals?\n",
    "With large amounts of products, Taobao has to be very careful to provide recommended products to users. They introduced the AI technology to better analyze the user’s shopping behaviors including browser history, search history, and then the system will pick related recommended products to your account. This will accomplish the users’ diversity goal.\n",
    "China is the largest manufacture in the world, they can produce any product, and the cost could be minimized if using no brand or own brand. Taobao has large selection of this type of products which can fulfill their needs.\n",
    "Another important feature is mini program associated in the Taobao, users can earn benefits, coupons, discounts by spending time on playing different mini game programs. This can increase the stickiness, and Taobao can charge the seller for displaying their products in the mini programs. But for the user, they get the discounts which accomplish their goals. \n"
   ]
  },
  {
   "cell_type": "code",
   "execution_count": null,
   "metadata": {},
   "outputs": [],
   "source": []
  }
 ],
 "metadata": {
  "kernelspec": {
   "display_name": "Python 3",
   "language": "python",
   "name": "python3"
  },
  "language_info": {
   "codemirror_mode": {
    "name": "ipython",
    "version": 3
   },
   "file_extension": ".py",
   "mimetype": "text/x-python",
   "name": "python",
   "nbconvert_exporter": "python",
   "pygments_lexer": "ipython3",
   "version": "3.8.3"
  }
 },
 "nbformat": 4,
 "nbformat_minor": 4
}
