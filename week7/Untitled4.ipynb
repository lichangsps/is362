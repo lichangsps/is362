{
 "cells": [
  {
   "cell_type": "code",
   "execution_count": 1,
   "metadata": {},
   "outputs": [],
   "source": [
    "import pandas as pd\n",
    "import numpy as np\n",
    "import matplotlib.pyplot as plt "
   ]
  },
  {
   "cell_type": "code",
   "execution_count": 2,
   "metadata": {},
   "outputs": [
    {
     "data": {
      "text/html": [
       "<div>\n",
       "<style scoped>\n",
       "    .dataframe tbody tr th:only-of-type {\n",
       "        vertical-align: middle;\n",
       "    }\n",
       "\n",
       "    .dataframe tbody tr th {\n",
       "        vertical-align: top;\n",
       "    }\n",
       "\n",
       "    .dataframe thead th {\n",
       "        text-align: right;\n",
       "    }\n",
       "</style>\n",
       "<table border=\"1\" class=\"dataframe\">\n",
       "  <thead>\n",
       "    <tr style=\"text-align: right;\">\n",
       "      <th></th>\n",
       "      <th>The Shawshank Redemption?</th>\n",
       "      <th>The Godfather</th>\n",
       "      <th>The Godfather: Part II?</th>\n",
       "      <th>The Dark Knight?</th>\n",
       "      <th>12 Angry Men?</th>\n",
       "      <th>Schindler's List?</th>\n",
       "    </tr>\n",
       "  </thead>\n",
       "  <tbody>\n",
       "    <tr>\n",
       "      <th>Jack</th>\n",
       "      <td>3.0</td>\n",
       "      <td>NaN</td>\n",
       "      <td>NaN</td>\n",
       "      <td>5.0</td>\n",
       "      <td>5</td>\n",
       "      <td>NaN</td>\n",
       "    </tr>\n",
       "    <tr>\n",
       "      <th>Alan</th>\n",
       "      <td>NaN</td>\n",
       "      <td>5.0</td>\n",
       "      <td>5.0</td>\n",
       "      <td>NaN</td>\n",
       "      <td>4</td>\n",
       "      <td>3.0</td>\n",
       "    </tr>\n",
       "    <tr>\n",
       "      <th>Geoger</th>\n",
       "      <td>2.0</td>\n",
       "      <td>NaN</td>\n",
       "      <td>NaN</td>\n",
       "      <td>4.0</td>\n",
       "      <td>5</td>\n",
       "      <td>NaN</td>\n",
       "    </tr>\n",
       "    <tr>\n",
       "      <th>Alice</th>\n",
       "      <td>5.0</td>\n",
       "      <td>4.0</td>\n",
       "      <td>NaN</td>\n",
       "      <td>NaN</td>\n",
       "      <td>3</td>\n",
       "      <td>5.0</td>\n",
       "    </tr>\n",
       "    <tr>\n",
       "      <th>Fai</th>\n",
       "      <td>5.0</td>\n",
       "      <td>NaN</td>\n",
       "      <td>4.0</td>\n",
       "      <td>4.0</td>\n",
       "      <td>3</td>\n",
       "      <td>NaN</td>\n",
       "    </tr>\n",
       "  </tbody>\n",
       "</table>\n",
       "</div>"
      ],
      "text/plain": [
       "         The Shawshank Redemption?  The Godfather  The Godfather: Part II?  \\\n",
       "Jack                           3.0            NaN                      NaN   \n",
       "Alan                           NaN            5.0                      5.0   \n",
       "Geoger                         2.0            NaN                      NaN   \n",
       "Alice                          5.0            4.0                      NaN   \n",
       "Fai                            5.0            NaN                      4.0   \n",
       "\n",
       "         The Dark Knight?  12 Angry Men?  Schindler's List?  \n",
       "Jack                  5.0              5                NaN  \n",
       "Alan                  NaN              4                3.0  \n",
       "Geoger                4.0              5                NaN  \n",
       "Alice                 NaN              3                5.0  \n",
       "Fai                   4.0              3                NaN  "
      ]
     },
     "execution_count": 2,
     "metadata": {},
     "output_type": "execute_result"
    }
   ],
   "source": [
    "movie_rating = pd.read_csv('week7.csv',index_col =0)\n",
    "movie_rating"
   ]
  },
  {
   "cell_type": "markdown",
   "metadata": {},
   "source": [
    "Average"
   ]
  },
  {
   "cell_type": "code",
   "execution_count": 3,
   "metadata": {},
   "outputs": [
    {
     "data": {
      "text/plain": [
       "Jack       4.33\n",
       "Alan       4.25\n",
       "Geoger     3.67\n",
       "Alice      4.25\n",
       "Fai        4.00\n",
       "dtype: float64"
      ]
     },
     "execution_count": 3,
     "metadata": {},
     "output_type": "execute_result"
    }
   ],
   "source": [
    "user_aver = movie_rating.mean(axis=1).round(decimals=2)\n",
    "user_aver"
   ]
  },
  {
   "cell_type": "code",
   "execution_count": 4,
   "metadata": {},
   "outputs": [
    {
     "data": {
      "text/plain": [
       "The Shawshank Redemption?    3.75\n",
       "The Godfather                4.50\n",
       "The Godfather: Part II?      4.50\n",
       "The Dark Knight?             4.33\n",
       "12 Angry Men?                4.00\n",
       "Schindler's List?            4.00\n",
       "dtype: float64"
      ]
     },
     "execution_count": 4,
     "metadata": {},
     "output_type": "execute_result"
    }
   ],
   "source": [
    "movie_aver = movie_rating.mean(axis=0).round(decimals=2)\n",
    "movie_aver"
   ]
  },
  {
   "cell_type": "markdown",
   "metadata": {},
   "source": [
    "Normalization "
   ]
  },
  {
   "cell_type": "code",
   "execution_count": 5,
   "metadata": {},
   "outputs": [
    {
     "data": {
      "text/html": [
       "<div>\n",
       "<style scoped>\n",
       "    .dataframe tbody tr th:only-of-type {\n",
       "        vertical-align: middle;\n",
       "    }\n",
       "\n",
       "    .dataframe tbody tr th {\n",
       "        vertical-align: top;\n",
       "    }\n",
       "\n",
       "    .dataframe thead th {\n",
       "        text-align: right;\n",
       "    }\n",
       "</style>\n",
       "<table border=\"1\" class=\"dataframe\">\n",
       "  <thead>\n",
       "    <tr style=\"text-align: right;\">\n",
       "      <th></th>\n",
       "      <th>The Shawshank Redemption?</th>\n",
       "      <th>The Godfather</th>\n",
       "      <th>The Godfather: Part II?</th>\n",
       "      <th>The Dark Knight?</th>\n",
       "      <th>12 Angry Men?</th>\n",
       "      <th>Schindler's List?</th>\n",
       "    </tr>\n",
       "  </thead>\n",
       "  <tbody>\n",
       "    <tr>\n",
       "      <th>Jack</th>\n",
       "      <td>0.333333</td>\n",
       "      <td>NaN</td>\n",
       "      <td>NaN</td>\n",
       "      <td>1.0</td>\n",
       "      <td>1.0</td>\n",
       "      <td>NaN</td>\n",
       "    </tr>\n",
       "    <tr>\n",
       "      <th>Alan</th>\n",
       "      <td>NaN</td>\n",
       "      <td>1.0</td>\n",
       "      <td>1.0</td>\n",
       "      <td>NaN</td>\n",
       "      <td>0.5</td>\n",
       "      <td>0.0</td>\n",
       "    </tr>\n",
       "    <tr>\n",
       "      <th>Geoger</th>\n",
       "      <td>0.000000</td>\n",
       "      <td>NaN</td>\n",
       "      <td>NaN</td>\n",
       "      <td>0.0</td>\n",
       "      <td>1.0</td>\n",
       "      <td>NaN</td>\n",
       "    </tr>\n",
       "    <tr>\n",
       "      <th>Alice</th>\n",
       "      <td>1.000000</td>\n",
       "      <td>0.0</td>\n",
       "      <td>NaN</td>\n",
       "      <td>NaN</td>\n",
       "      <td>0.0</td>\n",
       "      <td>1.0</td>\n",
       "    </tr>\n",
       "    <tr>\n",
       "      <th>Fai</th>\n",
       "      <td>1.000000</td>\n",
       "      <td>NaN</td>\n",
       "      <td>0.0</td>\n",
       "      <td>0.0</td>\n",
       "      <td>0.0</td>\n",
       "      <td>NaN</td>\n",
       "    </tr>\n",
       "  </tbody>\n",
       "</table>\n",
       "</div>"
      ],
      "text/plain": [
       "         The Shawshank Redemption?  The Godfather  The Godfather: Part II?  \\\n",
       "Jack                      0.333333            NaN                      NaN   \n",
       "Alan                           NaN            1.0                      1.0   \n",
       "Geoger                    0.000000            NaN                      NaN   \n",
       "Alice                     1.000000            0.0                      NaN   \n",
       "Fai                       1.000000            NaN                      0.0   \n",
       "\n",
       "         The Dark Knight?  12 Angry Men?  Schindler's List?  \n",
       "Jack                  1.0            1.0                NaN  \n",
       "Alan                  NaN            0.5                0.0  \n",
       "Geoger                0.0            1.0                NaN  \n",
       "Alice                 NaN            0.0                1.0  \n",
       "Fai                   0.0            0.0                NaN  "
      ]
     },
     "execution_count": 5,
     "metadata": {},
     "output_type": "execute_result"
    }
   ],
   "source": [
    "rating_norm = (movie_rating - movie_rating.min()) / (movie_rating.max() - movie_rating.min())\n",
    "rating_norm"
   ]
  },
  {
   "cell_type": "code",
   "execution_count": 6,
   "metadata": {},
   "outputs": [
    {
     "data": {
      "text/plain": [
       "Jack       0.77778\n",
       "Alan       0.62500\n",
       "Geoger     0.33333\n",
       "Alice      0.50000\n",
       "Fai        0.25000\n",
       "dtype: float64"
      ]
     },
     "execution_count": 6,
     "metadata": {},
     "output_type": "execute_result"
    }
   ],
   "source": [
    "user_aver_norm = rating_norm.mean(axis=1).round(decimals=5)\n",
    "user_aver_norm"
   ]
  },
  {
   "cell_type": "code",
   "execution_count": 7,
   "metadata": {},
   "outputs": [
    {
     "data": {
      "text/plain": [
       "The Shawshank Redemption?    0.58333\n",
       "The Godfather                0.50000\n",
       "The Godfather: Part II?      0.50000\n",
       "The Dark Knight?             0.33333\n",
       "12 Angry Men?                0.50000\n",
       "Schindler's List?            0.50000\n",
       "dtype: float64"
      ]
     },
     "execution_count": 7,
     "metadata": {},
     "output_type": "execute_result"
    }
   ],
   "source": [
    "movie_aver_norm = rating_norm.mean(axis=0).round(decimals=5)\n",
    "movie_aver_norm"
   ]
  },
  {
   "cell_type": "markdown",
   "metadata": {},
   "source": [
    "Conclusion: \n",
    "advantage is to make all datapoint have same scale (0-1)\n",
    "disadvantage is it cannot very good handle outliers, the result will affected by min and max values."
   ]
  },
  {
   "cell_type": "markdown",
   "metadata": {},
   "source": [
    "standardization"
   ]
  },
  {
   "cell_type": "code",
   "execution_count": 8,
   "metadata": {},
   "outputs": [
    {
     "data": {
      "text/html": [
       "<div>\n",
       "<style scoped>\n",
       "    .dataframe tbody tr th:only-of-type {\n",
       "        vertical-align: middle;\n",
       "    }\n",
       "\n",
       "    .dataframe tbody tr th {\n",
       "        vertical-align: top;\n",
       "    }\n",
       "\n",
       "    .dataframe thead th {\n",
       "        text-align: right;\n",
       "    }\n",
       "</style>\n",
       "<table border=\"1\" class=\"dataframe\">\n",
       "  <thead>\n",
       "    <tr style=\"text-align: right;\">\n",
       "      <th></th>\n",
       "      <th>The Shawshank Redemption?</th>\n",
       "      <th>The Godfather</th>\n",
       "      <th>The Godfather: Part II?</th>\n",
       "      <th>The Dark Knight?</th>\n",
       "      <th>12 Angry Men?</th>\n",
       "      <th>Schindler's List?</th>\n",
       "    </tr>\n",
       "  </thead>\n",
       "  <tbody>\n",
       "    <tr>\n",
       "      <th>Jack</th>\n",
       "      <td>-0.500000</td>\n",
       "      <td>NaN</td>\n",
       "      <td>NaN</td>\n",
       "      <td>1.154701</td>\n",
       "      <td>1.0</td>\n",
       "      <td>NaN</td>\n",
       "    </tr>\n",
       "    <tr>\n",
       "      <th>Alan</th>\n",
       "      <td>NaN</td>\n",
       "      <td>0.707107</td>\n",
       "      <td>0.707107</td>\n",
       "      <td>NaN</td>\n",
       "      <td>0.0</td>\n",
       "      <td>-0.707107</td>\n",
       "    </tr>\n",
       "    <tr>\n",
       "      <th>Geoger</th>\n",
       "      <td>-1.166667</td>\n",
       "      <td>NaN</td>\n",
       "      <td>NaN</td>\n",
       "      <td>-0.577350</td>\n",
       "      <td>1.0</td>\n",
       "      <td>NaN</td>\n",
       "    </tr>\n",
       "    <tr>\n",
       "      <th>Alice</th>\n",
       "      <td>0.833333</td>\n",
       "      <td>-0.707107</td>\n",
       "      <td>NaN</td>\n",
       "      <td>NaN</td>\n",
       "      <td>-1.0</td>\n",
       "      <td>0.707107</td>\n",
       "    </tr>\n",
       "    <tr>\n",
       "      <th>Fai</th>\n",
       "      <td>0.833333</td>\n",
       "      <td>NaN</td>\n",
       "      <td>-0.707107</td>\n",
       "      <td>-0.577350</td>\n",
       "      <td>-1.0</td>\n",
       "      <td>NaN</td>\n",
       "    </tr>\n",
       "  </tbody>\n",
       "</table>\n",
       "</div>"
      ],
      "text/plain": [
       "         The Shawshank Redemption?  The Godfather  The Godfather: Part II?  \\\n",
       "Jack                     -0.500000            NaN                      NaN   \n",
       "Alan                           NaN       0.707107                 0.707107   \n",
       "Geoger                   -1.166667            NaN                      NaN   \n",
       "Alice                     0.833333      -0.707107                      NaN   \n",
       "Fai                       0.833333            NaN                -0.707107   \n",
       "\n",
       "         The Dark Knight?  12 Angry Men?  Schindler's List?  \n",
       "Jack             1.154701            1.0                NaN  \n",
       "Alan                  NaN            0.0          -0.707107  \n",
       "Geoger          -0.577350            1.0                NaN  \n",
       "Alice                 NaN           -1.0           0.707107  \n",
       "Fai             -0.577350           -1.0                NaN  "
      ]
     },
     "execution_count": 8,
     "metadata": {},
     "output_type": "execute_result"
    }
   ],
   "source": [
    "rating_std = (movie_rating - movie_rating.mean())/(movie_rating.std())\n",
    "rating_std"
   ]
  },
  {
   "cell_type": "code",
   "execution_count": 9,
   "metadata": {},
   "outputs": [
    {
     "data": {
      "text/plain": [
       "Jack       0.55157\n",
       "Alan       0.17678\n",
       "Geoger    -0.24801\n",
       "Alice     -0.04167\n",
       "Fai       -0.36278\n",
       "dtype: float64"
      ]
     },
     "execution_count": 9,
     "metadata": {},
     "output_type": "execute_result"
    }
   ],
   "source": [
    "user_aver_std = rating_std.mean(axis=1).round(decimals=5)\n",
    "user_aver_std"
   ]
  },
  {
   "cell_type": "code",
   "execution_count": 10,
   "metadata": {},
   "outputs": [
    {
     "data": {
      "text/plain": [
       "The Shawshank Redemption?    0.0\n",
       "The Godfather                0.0\n",
       "The Godfather: Part II?      0.0\n",
       "The Dark Knight?             0.0\n",
       "12 Angry Men?                0.0\n",
       "Schindler's List?            0.0\n",
       "dtype: float64"
      ]
     },
     "execution_count": 10,
     "metadata": {},
     "output_type": "execute_result"
    }
   ],
   "source": [
    "movie_aver_std = rating_std.mean(axis=0).round(decimals=5)\n",
    "movie_aver_std"
   ]
  }
 ],
 "metadata": {
  "kernelspec": {
   "display_name": "Python 3",
   "language": "python",
   "name": "python3"
  },
  "language_info": {
   "codemirror_mode": {
    "name": "ipython",
    "version": 3
   },
   "file_extension": ".py",
   "mimetype": "text/x-python",
   "name": "python",
   "nbconvert_exporter": "python",
   "pygments_lexer": "ipython3",
   "version": "3.8.3"
  }
 },
 "nbformat": 4,
 "nbformat_minor": 4
}
