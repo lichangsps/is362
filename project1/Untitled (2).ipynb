{
 "cells": [
  {
   "cell_type": "code",
   "execution_count": 1,
   "metadata": {},
   "outputs": [],
   "source": [
    "import pandas as pd\n",
    "import numpy as np\n",
    "import matplotlib.pyplot as plt "
   ]
  },
  {
   "cell_type": "markdown",
   "metadata": {},
   "source": [
    "read from CSV file"
   ]
  },
  {
   "cell_type": "code",
   "execution_count": 2,
   "metadata": {},
   "outputs": [],
   "source": [
    "df = pd.read_csv('project1.csv', index_col =0)"
   ]
  },
  {
   "cell_type": "code",
   "execution_count": 3,
   "metadata": {},
   "outputs": [
    {
     "data": {
      "text/plain": [
       "status           object\n",
       "los angeles       int64\n",
       "phoenix           int64\n",
       "san diego         int64\n",
       "san francisco     int64\n",
       "seattle           int64\n",
       "dtype: object"
      ]
     },
     "execution_count": 3,
     "metadata": {},
     "output_type": "execute_result"
    }
   ],
   "source": [
    "df.dtypes"
   ]
  },
  {
   "cell_type": "code",
   "execution_count": 4,
   "metadata": {},
   "outputs": [
    {
     "data": {
      "text/html": [
       "<div>\n",
       "<style scoped>\n",
       "    .dataframe tbody tr th:only-of-type {\n",
       "        vertical-align: middle;\n",
       "    }\n",
       "\n",
       "    .dataframe tbody tr th {\n",
       "        vertical-align: top;\n",
       "    }\n",
       "\n",
       "    .dataframe thead th {\n",
       "        text-align: right;\n",
       "    }\n",
       "</style>\n",
       "<table border=\"1\" class=\"dataframe\">\n",
       "  <thead>\n",
       "    <tr style=\"text-align: right;\">\n",
       "      <th></th>\n",
       "      <th>status</th>\n",
       "      <th>los angeles</th>\n",
       "      <th>phoenix</th>\n",
       "      <th>san diego</th>\n",
       "      <th>san francisco</th>\n",
       "      <th>seattle</th>\n",
       "    </tr>\n",
       "    <tr>\n",
       "      <th>origin</th>\n",
       "      <th></th>\n",
       "      <th></th>\n",
       "      <th></th>\n",
       "      <th></th>\n",
       "      <th></th>\n",
       "      <th></th>\n",
       "    </tr>\n",
       "  </thead>\n",
       "  <tbody>\n",
       "    <tr>\n",
       "      <th>Alaska</th>\n",
       "      <td>on time</td>\n",
       "      <td>497</td>\n",
       "      <td>221</td>\n",
       "      <td>212</td>\n",
       "      <td>503</td>\n",
       "      <td>1841</td>\n",
       "    </tr>\n",
       "    <tr>\n",
       "      <th>Alaska</th>\n",
       "      <td>delayed</td>\n",
       "      <td>62</td>\n",
       "      <td>12</td>\n",
       "      <td>20</td>\n",
       "      <td>102</td>\n",
       "      <td>305</td>\n",
       "    </tr>\n",
       "    <tr>\n",
       "      <th>AM west</th>\n",
       "      <td>on time</td>\n",
       "      <td>694</td>\n",
       "      <td>4840</td>\n",
       "      <td>383</td>\n",
       "      <td>320</td>\n",
       "      <td>201</td>\n",
       "    </tr>\n",
       "    <tr>\n",
       "      <th>AM west</th>\n",
       "      <td>delayed</td>\n",
       "      <td>117</td>\n",
       "      <td>415</td>\n",
       "      <td>65</td>\n",
       "      <td>129</td>\n",
       "      <td>61</td>\n",
       "    </tr>\n",
       "  </tbody>\n",
       "</table>\n",
       "</div>"
      ],
      "text/plain": [
       "          status  los angeles   phoenix  san diego  san francisco  seattle\n",
       "origin                                                                    \n",
       "Alaska   on time           497      221        212            503     1841\n",
       "Alaska   delayed            62       12         20            102      305\n",
       "AM west  on time           694     4840        383            320      201\n",
       "AM west  delayed           117      415         65            129       61"
      ]
     },
     "execution_count": 4,
     "metadata": {},
     "output_type": "execute_result"
    }
   ],
   "source": [
    "df.head()"
   ]
  },
  {
   "cell_type": "markdown",
   "metadata": {},
   "source": [
    "split dataframe into two by index(airline), keep a copy for later use\n",
    "AK =Alaska\n",
    "AM =AM west\n",
    "\n",
    "add column and calcuate the total count for each row.\n",
    "add row for delay rate for every airport, delay/(on time+delay)*100"
   ]
  },
  {
   "cell_type": "code",
   "execution_count": 5,
   "metadata": {},
   "outputs": [
    {
     "data": {
      "text/html": [
       "<div>\n",
       "<style scoped>\n",
       "    .dataframe tbody tr th:only-of-type {\n",
       "        vertical-align: middle;\n",
       "    }\n",
       "\n",
       "    .dataframe tbody tr th {\n",
       "        vertical-align: top;\n",
       "    }\n",
       "\n",
       "    .dataframe thead th {\n",
       "        text-align: right;\n",
       "    }\n",
       "</style>\n",
       "<table border=\"1\" class=\"dataframe\">\n",
       "  <thead>\n",
       "    <tr style=\"text-align: right;\">\n",
       "      <th></th>\n",
       "      <th>los angeles</th>\n",
       "      <th>phoenix</th>\n",
       "      <th>san diego</th>\n",
       "      <th>san francisco</th>\n",
       "      <th>seattle</th>\n",
       "      <th>total</th>\n",
       "    </tr>\n",
       "    <tr>\n",
       "      <th>status</th>\n",
       "      <th></th>\n",
       "      <th></th>\n",
       "      <th></th>\n",
       "      <th></th>\n",
       "      <th></th>\n",
       "      <th></th>\n",
       "    </tr>\n",
       "  </thead>\n",
       "  <tbody>\n",
       "    <tr>\n",
       "      <th>on time</th>\n",
       "      <td>497</td>\n",
       "      <td>221</td>\n",
       "      <td>212</td>\n",
       "      <td>503</td>\n",
       "      <td>1841</td>\n",
       "      <td>3274</td>\n",
       "    </tr>\n",
       "    <tr>\n",
       "      <th>delayed</th>\n",
       "      <td>62</td>\n",
       "      <td>12</td>\n",
       "      <td>20</td>\n",
       "      <td>102</td>\n",
       "      <td>305</td>\n",
       "      <td>501</td>\n",
       "    </tr>\n",
       "    <tr>\n",
       "      <th>Delay Rate(%)</th>\n",
       "      <td>11.09</td>\n",
       "      <td>5.15</td>\n",
       "      <td>8.62</td>\n",
       "      <td>16.86</td>\n",
       "      <td>14.21</td>\n",
       "      <td>13.27</td>\n",
       "    </tr>\n",
       "  </tbody>\n",
       "</table>\n",
       "</div>"
      ],
      "text/plain": [
       "              los angeles  phoenix san diego san francisco seattle  total\n",
       "status                                                                   \n",
       "on time                497     221       212           503    1841   3274\n",
       "delayed                 62      12        20           102     305    501\n",
       "Delay Rate(%)        11.09    5.15      8.62         16.86   14.21  13.27"
      ]
     },
     "execution_count": 5,
     "metadata": {},
     "output_type": "execute_result"
    }
   ],
   "source": [
    "AK = df.loc['Alaska']\n",
    "AK = AK.set_index('status')\n",
    "\n",
    "AK_origin = AK.copy()\n",
    "\n",
    "AK['total'] = AK.sum(axis=1)\n",
    "AK.loc['Delay Rate(%)'] = ((AK.loc['delayed']/(AK.loc['on time']+AK.loc['delayed'])*100)\n",
    "                              .apply('{:.2f}'.format))\n",
    "AK"
   ]
  },
  {
   "cell_type": "code",
   "execution_count": 6,
   "metadata": {},
   "outputs": [
    {
     "data": {
      "text/html": [
       "<div>\n",
       "<style scoped>\n",
       "    .dataframe tbody tr th:only-of-type {\n",
       "        vertical-align: middle;\n",
       "    }\n",
       "\n",
       "    .dataframe tbody tr th {\n",
       "        vertical-align: top;\n",
       "    }\n",
       "\n",
       "    .dataframe thead th {\n",
       "        text-align: right;\n",
       "    }\n",
       "</style>\n",
       "<table border=\"1\" class=\"dataframe\">\n",
       "  <thead>\n",
       "    <tr style=\"text-align: right;\">\n",
       "      <th></th>\n",
       "      <th>los angeles</th>\n",
       "      <th>phoenix</th>\n",
       "      <th>san diego</th>\n",
       "      <th>san francisco</th>\n",
       "      <th>seattle</th>\n",
       "      <th>total</th>\n",
       "    </tr>\n",
       "    <tr>\n",
       "      <th>status</th>\n",
       "      <th></th>\n",
       "      <th></th>\n",
       "      <th></th>\n",
       "      <th></th>\n",
       "      <th></th>\n",
       "      <th></th>\n",
       "    </tr>\n",
       "  </thead>\n",
       "  <tbody>\n",
       "    <tr>\n",
       "      <th>on time</th>\n",
       "      <td>694</td>\n",
       "      <td>4840</td>\n",
       "      <td>383</td>\n",
       "      <td>320</td>\n",
       "      <td>201</td>\n",
       "      <td>6438</td>\n",
       "    </tr>\n",
       "    <tr>\n",
       "      <th>delayed</th>\n",
       "      <td>117</td>\n",
       "      <td>415</td>\n",
       "      <td>65</td>\n",
       "      <td>129</td>\n",
       "      <td>61</td>\n",
       "      <td>787</td>\n",
       "    </tr>\n",
       "    <tr>\n",
       "      <th>Delay Rate(%)</th>\n",
       "      <td>14.43</td>\n",
       "      <td>7.90</td>\n",
       "      <td>14.51</td>\n",
       "      <td>28.73</td>\n",
       "      <td>23.28</td>\n",
       "      <td>10.89</td>\n",
       "    </tr>\n",
       "  </tbody>\n",
       "</table>\n",
       "</div>"
      ],
      "text/plain": [
       "              los angeles  phoenix san diego san francisco seattle  total\n",
       "status                                                                   \n",
       "on time                694    4840       383           320     201   6438\n",
       "delayed                117     415        65           129      61    787\n",
       "Delay Rate(%)        14.43    7.90     14.51         28.73   23.28  10.89"
      ]
     },
     "execution_count": 6,
     "metadata": {},
     "output_type": "execute_result"
    }
   ],
   "source": [
    "AM = df.loc['AM west']\n",
    "AM = AM.set_index('status')\n",
    "\n",
    "AM_origin = AM.copy()\n",
    "AM['total'] = AM.sum(axis=1)\n",
    "AM.loc['Delay Rate(%)'] = ((AM.loc['delayed']/(AM.loc['on time']+AM.loc['delayed'])*100)\n",
    "                              .apply('{:.2f}'.format))\n",
    "AM"
   ]
  },
  {
   "cell_type": "markdown",
   "metadata": {},
   "source": [
    "extract delay rate row into series, using this row to analysis the data\n",
    "datatype needs to convert."
   ]
  },
  {
   "cell_type": "code",
   "execution_count": 7,
   "metadata": {},
   "outputs": [],
   "source": [
    "AK_delay = AK.xs('Delay Rate(%)')\n",
    "AM_delay = AM.xs('Delay Rate(%)')\n",
    "AM_delay=AM_delay.astype(float)\n",
    "AK_delay=AK_delay.astype(float)\n"
   ]
  },
  {
   "cell_type": "markdown",
   "metadata": {},
   "source": [
    "First, compare the total delay rate, as graph displayed, Alaska has higher overall delay rate."
   ]
  },
  {
   "cell_type": "code",
   "execution_count": 8,
   "metadata": {},
   "outputs": [
    {
     "name": "stdout",
     "output_type": "stream",
     "text": [
      "         Total Delay Rate\n",
      "AM west             10.89\n",
      "Alaska              13.27\n"
     ]
    },
    {
     "data": {
      "image/png": "[encoded data removed]",
      "text/plain": [
       "<Figure size 432x288 with 1 Axes>"
      ]
     },
     "metadata": {
      "needs_background": "light"
     },
     "output_type": "display_data"
    }
   ],
   "source": [
    "Total_delay =pd.DataFrame({'Total Delay Rate':{'Alaska':AK_delay.iloc[5],'AM west':AM_delay.iloc[5]}}) \n",
    "print(Total_delay)\n",
    "Total_delay.plot(kind='bar')\n",
    "plt.title('Total Delay rate')\n",
    "plt.xlabel('Airlines')\n",
    "plt.ylabel('Total Delay Rate(%)')\n",
    "plt.show()"
   ]
  },
  {
   "cell_type": "markdown",
   "metadata": {},
   "source": [
    "But if we dispaly all airports delay rate, all AM west delay rates are higher than Alaska"
   ]
  },
  {
   "cell_type": "code",
   "execution_count": 9,
   "metadata": {},
   "outputs": [
    {
     "data": {
      "image/png": "[encoded data removed]",
      "text/plain": [
       "<Figure size 432x288 with 1 Axes>"
      ]
     },
     "metadata": {
      "needs_background": "light"
     },
     "output_type": "display_data"
    }
   ],
   "source": [
    "AK_delay.drop(labels=['total'],inplace = True )\n",
    "AM_delay.drop(labels=['total'],inplace = True )\n",
    "AK_delay.plot(label='Alaska')\n",
    "AM_delay.plot(label= 'AM west')\n",
    "plt.title('Total Delay rate')\n",
    "plt.xlabel('Airports')\n",
    "plt.ylabel('Delay Rate(%)')\n",
    "plt.legend(loc='best')\n",
    "\n",
    "plt.show()\n"
   ]
  },
  {
   "cell_type": "markdown",
   "metadata": {},
   "source": [
    "By presenting the flight counts, noticed the number of flight for AM West in Phoenix is way higher than others, although the delay rate in Phoenix is still higher than Alaska, due to large data added to total counts, the overall delay rate get affected. \n",
    "Conclusion: AM West has higher delay rate than Alaska."
   ]
  },
  {
   "cell_type": "code",
   "execution_count": 10,
   "metadata": {},
   "outputs": [
    {
     "data": {
      "image/png": "[encoded data removed]",
      "text/plain": [
       "<Figure size 432x288 with 1 Axes>"
      ]
     },
     "metadata": {
      "needs_background": "light"
     },
     "output_type": "display_data"
    }
   ],
   "source": [
    "n=len(list(AK_origin))\n",
    "\n",
    "ind = np.arange(n) + .15 # the x locations for the groups\n",
    "width = 0.35       # the width of the bars\n",
    "\n",
    "fig, ax = plt.subplots()\n",
    "rects1 = ax.bar(ind, AK_origin.loc['on time'], width, color='g', label = 'Alaska on time') \n",
    "rects2 = ax.bar(ind, AK_origin.loc['delayed'], width, color='cyan', label = 'Alaska Delayed') \n",
    "\n",
    "xtra_space = 0.05\n",
    "rects1 = ax.bar(ind + width + xtra_space , AM_origin.loc['on time'], width, color='orange', label = 'AM West on time') \n",
    "rects2 = ax.bar(ind + width + xtra_space, AM_origin.loc['delayed'], width, color='r',label = 'AM West Delayed') \n",
    "\n",
    "# add some text for labels, title and axes ticks\n",
    "ax.set_ylabel('Flights Counts')\n",
    "ax.set_xlabel(' Airports')\n",
    "\n",
    "ax.set_title('Flights count')\n",
    "ax.legend(loc='best')\n",
    "ax.set_xticks(ind+width)\n",
    "ax.set_xticklabels(list(AK_origin))\n",
    "\n",
    "plt.show()"
   ]
  },
  {
   "cell_type": "code",
   "execution_count": null,
   "metadata": {},
   "outputs": [],
   "source": []
  }
 ],
 "metadata": {
  "kernelspec": {
   "display_name": "Python 3",
   "language": "python",
   "name": "python3"
  },
  "language_info": {
   "codemirror_mode": {
    "name": "ipython",
    "version": 3
   },
   "file_extension": ".py",
   "mimetype": "text/x-python",
   "name": "python",
   "nbconvert_exporter": "python",
   "pygments_lexer": "ipython3",
   "version": "3.8.3"
  }
 },
 "nbformat": 4,
 "nbformat_minor": 5
}
